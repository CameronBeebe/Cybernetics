{
 "cells": [
  {
   "cell_type": "code",
   "execution_count": 2,
   "metadata": {},
   "outputs": [],
   "source": [
    "from cybernetics import train"
   ]
  },
  {
   "cell_type": "code",
   "execution_count": 3,
   "metadata": {},
   "outputs": [],
   "source": [
    "train?"
   ]
  },
  {
   "cell_type": "code",
   "execution_count": 4,
   "metadata": {},
   "outputs": [],
   "source": [
    "train??"
   ]
  },
  {
   "cell_type": "code",
   "execution_count": 4,
   "metadata": {},
   "outputs": [
    {
     "name": "stdout",
     "output_type": "stream",
     "text": [
      "[1, 2, 3, 4, 5]\n",
      "   1  2  3  4  5\n",
      "1  6  0  0  8  1\n",
      "2  7  1  7  8  8\n",
      "3  5  7  6  1  7\n",
      "4  8  6  2  2  0\n",
      "5  3  5  0  4  2\n",
      "regulator: {1: 82, 2: 63, 3: 8, 4: 71, 5: 57}\n",
      "Epoch:  1\n",
      "successes per epoch: 0.0\n",
      "Epoch:  2\n",
      "successes per epoch: 0.0\n",
      "Epoch:  3\n",
      "successes per epoch: 0.0\n",
      "Epoch:  4\n",
      "successes per epoch: 0.0\n",
      "Epoch:  5\n",
      "successes per epoch: 0.0\n",
      "Epoch:  6\n",
      "successes per epoch: 0.0\n",
      "Epoch:  7\n",
      "success!\n",
      "successes per epoch: 0.14285714285714285\n",
      "Epoch:  8\n",
      "successes per epoch: 0.125\n",
      "Epoch:  9\n",
      "successes per epoch: 0.1111111111111111\n",
      "Epoch:  10\n",
      "success!\n",
      "successes per epoch: 0.2\n"
     ]
    }
   ],
   "source": [
    "trained_regulator = train(game_size=(5,5),goal=5,epochs=10)"
   ]
  },
  {
   "cell_type": "code",
   "execution_count": null,
   "metadata": {},
   "outputs": [],
   "source": []
  }
 ],
 "metadata": {
  "kernelspec": {
   "display_name": "Python 3",
   "language": "python",
   "name": "python3"
  },
  "language_info": {
   "codemirror_mode": {
    "name": "ipython",
    "version": 3
   },
   "file_extension": ".py",
   "mimetype": "text/x-python",
   "name": "python",
   "nbconvert_exporter": "python",
   "pygments_lexer": "ipython3",
   "version": "3.7.7"
  }
 },
 "nbformat": 4,
 "nbformat_minor": 4
}
